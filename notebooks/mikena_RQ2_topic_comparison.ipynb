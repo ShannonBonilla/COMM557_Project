{
  "nbformat": 4,
  "nbformat_minor": 0,
  "metadata": {
    "colab": {
      "provenance": [],
      "authorship_tag": "ABX9TyPiEesiQbHe2DmSUTmaG+46",
      "include_colab_link": true
    },
    "kernelspec": {
      "name": "python3",
      "display_name": "Python 3"
    },
    "language_info": {
      "name": "python"
    }
  },
  "cells": [
    {
      "cell_type": "markdown",
      "metadata": {
        "id": "view-in-github",
        "colab_type": "text"
      },
      "source": [
        "<a href=\"https://colab.research.google.com/github/ShannonBonilla/COMM557_Project/blob/main/notebooks/mikena_RQ2_topic_comparison.ipynb\" target=\"_parent\"><img src=\"https://colab.research.google.com/assets/colab-badge.svg\" alt=\"Open In Colab\"/></a>"
      ]
    },
    {
      "cell_type": "code",
      "execution_count": 1,
      "metadata": {
        "colab": {
          "base_uri": "https://localhost:8080/"
        },
        "id": "2LpxLhf4pWUo",
        "outputId": "69996df9-43f2-41bc-8513-0c7c2a9ed1f4"
      },
      "outputs": [
        {
          "output_type": "stream",
          "name": "stdout",
          "text": [
            "Cloning into 'COMM557_Project'...\n",
            "remote: Enumerating objects: 62, done.\u001b[K\n",
            "remote: Counting objects: 100% (62/62), done.\u001b[K\n",
            "remote: Compressing objects: 100% (55/55), done.\u001b[K\n",
            "remote: Total 62 (delta 25), reused 12 (delta 5), pack-reused 0 (from 0)\u001b[K\n",
            "Receiving objects: 100% (62/62), 7.48 MiB | 7.01 MiB/s, done.\n",
            "Resolving deltas: 100% (25/25), done.\n",
            "/content/COMM557_Project\n",
            "total 428K\n",
            "drwxr-xr-x 4 root root 4.0K Oct 16 06:12 .\n",
            "drwxr-xr-x 1 root root 4.0K Oct 16 06:12 ..\n",
            "drwxr-xr-x 2 root root 4.0K Oct 16 06:12 data\n",
            "-rw-r--r-- 1 root root 6.1K Oct 16 06:12 .DS_Store\n",
            "-rw-r--r-- 1 root root 378K Oct 16 06:12 fetch_lyrics_genius.ipynb\n",
            "drwxr-xr-x 8 root root 4.0K Oct 16 06:12 .git\n",
            "-rw-r--r-- 1 root root   18 Oct 16 06:12 README.md\n",
            "-rw-r--r-- 1 root root 5.1K Oct 16 06:12 spotify_network.ipynb\n",
            "-rw-r--r-- 1 root root 9.3K Oct 16 06:12 tiktok_network.ipynb\n"
          ]
        }
      ],
      "source": [
        "!git clone https://github.com/ShannonBonilla/COMM557_Project.git\n",
        "%cd COMM557_Project\n",
        "!ls -lah\n"
      ]
    },
    {
      "cell_type": "code",
      "source": [
        "from pathlib import Path, PurePath\n",
        "import os, pandas as pd, numpy as np\n",
        "import matplotlib.pyplot as plt\n",
        "\n",
        "ROOT = Path(os.getcwd())\n",
        "DATA = ROOT/\"data\" if (ROOT/\"data\").exists() else ROOT.parent/\"data\"\n",
        "OUT  = ROOT/\"outputs\" if (ROOT/\"outputs\").exists() else ROOT.parent/\"outputs\"\n",
        "OUT.mkdir(parents=True, exist_ok=True)\n"
      ],
      "metadata": {
        "id": "nxTxXSjKp1Wv"
      },
      "execution_count": 2,
      "outputs": []
    }
  ]
}