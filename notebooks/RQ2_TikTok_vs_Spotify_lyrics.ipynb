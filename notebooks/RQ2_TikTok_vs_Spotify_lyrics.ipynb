{
  "nbformat": 4,
  "nbformat_minor": 0,
  "metadata": {
    "colab": {
      "provenance": [],
      "authorship_tag": "ABX9TyO6UhJVXuojQslEFJdtxDof",
      "include_colab_link": true
    },
    "kernelspec": {
      "name": "python3",
      "display_name": "Python 3"
    },
    "language_info": {
      "name": "python"
    }
  },
  "cells": [
    {
      "cell_type": "markdown",
      "metadata": {
        "id": "view-in-github",
        "colab_type": "text"
      },
      "source": [
        "<a href=\"https://colab.research.google.com/github/ShannonBonilla/COMM557_Project/blob/main/RQ2_TikTok_vs_Spotify_lyrics.ipynb\" target=\"_parent\"><img src=\"https://colab.research.google.com/assets/colab-badge.svg\" alt=\"Open In Colab\"/></a>"
      ]
    },
    {
      "cell_type": "code",
      "execution_count": 1,
      "metadata": {
        "colab": {
          "base_uri": "https://localhost:8080/"
        },
        "id": "pFB-l822W6eZ",
        "outputId": "28bb047a-e38f-4b34-9896-0e4972015310"
      },
      "outputs": [
        {
          "output_type": "stream",
          "name": "stdout",
          "text": [
            "Cloning into 'COMM557_Project'...\n",
            "remote: Enumerating objects: 75, done.\u001b[K\n",
            "remote: Counting objects: 100% (75/75), done.\u001b[K\n",
            "remote: Compressing objects: 100% (68/68), done.\u001b[K\n",
            "remote: Total 75 (delta 29), reused 10 (delta 5), pack-reused 0 (from 0)\u001b[K\n",
            "Receiving objects: 100% (75/75), 9.93 MiB | 8.40 MiB/s, done.\n",
            "Resolving deltas: 100% (29/29), done.\n",
            "/content/COMM557_Project\n"
          ]
        }
      ],
      "source": [
        "!git clone https://github.com/ShannonBonilla/COMM557_Project.git\n",
        "%cd COMM557_Project\n",
        "from pathlib import Path; import pandas as pd, numpy as np, re, glob, matplotlib.pyplot as plt\n",
        "DATA = Path(\"data\"); OUT = Path(\"outputs\"); OUT.mkdir(exist_ok=True)\n"
      ]
    },
    {
      "cell_type": "code",
      "source": [
        "def clean_name(x):\n",
        "    if not isinstance(x,str): return \"\"\n",
        "    x = re.sub(r'\\s*\\([^)]*\\)', '', x); x = re.sub(r'feat\\..*','',x,flags=re.I)\n",
        "    return re.sub(r'[^a-z0-9]+',' ',x.lower()).strip()\n",
        "def keyify(t,a): return f\"{clean_name(t)} — {clean_name(a)}\"\n",
        "\n",
        "songs  = pd.read_csv(DATA/\"final_songs_with_lyrics.csv\")\n",
        "topics = pd.read_csv(DATA/\"dataset_with_topics.csv\")\n",
        "for d in (songs, topics):\n",
        "    d.columns = [c.strip().lower().replace(\" \",\"_\") for c in d.columns]\n",
        "    if \"track_name\" in d.columns:  d.rename(columns={\"track_name\":\"title\"}, inplace=True)\n",
        "    if \"artist_name\" in d.columns: d.rename(columns={\"artist_name\":\"artist\"}, inplace=True)\n",
        "songs[\"key\"]  = [keyify(t,a) for t,a in zip(songs[\"title\"], songs[\"artist\"])]\n",
        "topics = topics.rename(columns={\"topic_number\":\"topic\"}) if \"topic_number\" in topics.columns else topics\n",
        "topics = topics[[\"title\",\"artist\",\"topic\"]].dropna(subset=[\"topic\"]).copy()\n",
        "topics[\"key\"] = [keyify(t,a) for t,a in zip(topics[\"title\"], topics[\"artist\"])]\n",
        "df = songs.merge(topics[[\"key\",\"topic\"]], on=\"key\", how=\"inner\")\n",
        "df[\"topic\"] = pd.to_numeric(df[\"topic\"], errors=\"coerce\").dropna().astype(int)\n"
      ],
      "metadata": {
        "id": "FqM8DRU8W7ud"
      },
      "execution_count": 2,
      "outputs": []
    },
    {
      "cell_type": "code",
      "source": [
        "# TikTok keys\n",
        "tt_frames=[]\n",
        "for p in sorted(glob.glob(str(DATA/\"TikTok_songs_*.csv\"))):\n",
        "    d = pd.read_csv(p); d.columns = [c.strip().lower().replace(\" \",\"_\") for c in d.columns]\n",
        "    tcol = \"title\" if \"title\" in d.columns else (\"track_name\" if \"track_name\" in d.columns else None)\n",
        "    acol = \"artist\" if \"artist\" in d.columns else (\"artist_name\" if \"artist_name\" in d.columns else None)\n",
        "    if tcol and acol:\n",
        "        d[\"key\"] = [keyify(str(t),str(a)) for t,a in zip(d[tcol], d[acol])]\n",
        "        tt_frames.append(d[[\"key\"]])\n",
        "tiktok_keys = set(pd.concat(tt_frames, ignore_index=True)[\"key\"].drop_duplicates())\n",
        "\n",
        "# Spotify keys (+ weeks)\n",
        "sp_frames=[]\n",
        "for p in sorted(glob.glob(str(DATA/\"spotify_top_charts_*.csv\"))):\n",
        "    d = pd.read_csv(p); d.columns = [c.strip().lower().replace(\" \",\"_\") for c in d.columns]\n",
        "    if {\"track_name\",\"artist_names\"}.issubset(d.columns):\n",
        "        first_artist = d[\"artist_names\"].astype(str).str.split(\",\").str[0]\n",
        "        out = pd.DataFrame({\"key\":[keyify(t,a) for t,a in zip(d[\"track_name\"], first_artist)]})\n",
        "        if \"weeks_on_chart\" in d.columns: out[\"weeks_on_chart\"] = d[\"weeks_on_chart\"]\n",
        "        sp_frames.append(out)\n",
        "spotify_df   = pd.concat(sp_frames, ignore_index=True).drop_duplicates()\n",
        "spotify_keys = set(spotify_df[\"key\"])\n",
        "spotify_weeks = (spotify_df.groupby(\"key\")[\"weeks_on_chart\"].max()\n",
        "                 if \"weeks_on_chart\" in spotify_df.columns else pd.Series(dtype=float))\n"
      ],
      "metadata": {
        "id": "XvtiYXfmW9GQ"
      },
      "execution_count": 3,
      "outputs": []
    },
    {
      "cell_type": "code",
      "source": [
        "df[\"on_tiktok\"]  = df[\"key\"].isin(tiktok_keys)\n",
        "df[\"on_spotify\"] = df[\"key\"].isin(spotify_keys)\n",
        "def label_group(r):\n",
        "    if r[\"on_spotify\"] and r[\"on_tiktok\"]: return \"TikTok-Crossover\"\n",
        "    if r[\"on_spotify\"] and not r[\"on_tiktok\"]: return \"Spotify-Only\"\n",
        "    return \"Other\"\n",
        "df[\"group\"] = df.apply(label_group, axis=1)\n"
      ],
      "metadata": {
        "id": "ZV59UBgAW_FB"
      },
      "execution_count": 4,
      "outputs": []
    },
    {
      "cell_type": "code",
      "source": [
        "# Rebuild the RQ2 subset from df (must already contain: title, artist, topic, group)\n",
        "assert \"group\" in df.columns and \"topic\" in df.columns, \"df must have group and topic columns\"\n",
        "df_rq2 = df[df[\"group\"].isin([\"TikTok-Crossover\",\"Spotify-Only\"])].copy()\n",
        "print(\"RQ2 rows:\", len(df_rq2), \"| groups:\\n\", df_rq2[\"group\"].value_counts())"
      ],
      "metadata": {
        "colab": {
          "base_uri": "https://localhost:8080/"
        },
        "id": "F6rUQwkgYZoP",
        "outputId": "477bb9bd-ea97-4387-aeee-891314ecd550"
      },
      "execution_count": 7,
      "outputs": [
        {
          "output_type": "stream",
          "name": "stdout",
          "text": [
            "RQ2 rows: 1783 | groups:\n",
            " group\n",
            "Spotify-Only        1513\n",
            "TikTok-Crossover     270\n",
            "Name: count, dtype: int64\n"
          ]
        }
      ]
    },
    {
      "cell_type": "code",
      "source": [
        "from pathlib import Path\n",
        "import pandas as pd\n",
        "import matplotlib.pyplot as plt\n",
        "\n",
        "DATA = Path(\"data\")\n",
        "\n",
        "# --- Topic distribution (always runs)\n",
        "topic_counts = (\n",
        "    df_rq2.groupby([\"group\",\"topic\"]).size()\n",
        "          .reset_index(name=\"count\")\n",
        ")\n",
        "topic_counts[\"pct_within_group\"] = (\n",
        "    topic_counts[\"count\"] /\n",
        "    topic_counts.groupby(\"group\")[\"count\"].transform(\"sum\") * 100.0\n",
        ")\n",
        "topic_counts.to_csv(DATA/\"topic_distribution_tiktok_vs_spotify.csv\", index=False)\n",
        "\n",
        "pivot = topic_counts.pivot(index=\"topic\", columns=\"group\", values=\"pct_within_group\").fillna(0)\n",
        "ax = pivot.plot(kind=\"bar\", figsize=(10,6))\n",
        "ax.set_title(\"Lyric Topics by Platform Group (RQ2)\")\n",
        "ax.set_ylabel(\"% of Songs within Group\")\n",
        "ax.set_xlabel(\"Topic\")\n",
        "ax.legend(title=\"Group\")\n",
        "plt.tight_layout(); plt.show()\n",
        "# plt.savefig(\"outputs/rq2_topics_bar.png\", dpi=200, bbox_inches=\"tight\")\n",
        "\n",
        "# --- Optional longevity export (only if weeks column exists)\n",
        "weeks_col = None\n",
        "for c in [\"weeks_on_chart\", \"weeks_on_cf_chart_long\", \"weeks\"]:\n",
        "    if c in df_rq2.columns:\n",
        "        weeks_col = c\n",
        "        break\n",
        "\n",
        "if weeks_col:\n",
        "    lon = (\n",
        "        df_rq2.groupby([\"group\",\"topic\"])[weeks_col]\n",
        "              .mean().reset_index()\n",
        "              .rename(columns={weeks_col: \"avg_weeks\"})\n",
        "    )\n",
        "    lon.to_csv(DATA/\"topic_avg_weeks_by_group.csv\", index=False)\n",
        "    print(\"Saved topic_avg_weeks_by_group.csv\")\n",
        "else:\n",
        "    print(\"No weeks column found in df_rq2 — skipped longevity export.\")\n"
      ],
      "metadata": {
        "colab": {
          "base_uri": "https://localhost:8080/",
          "height": 625
        },
        "id": "nLAt-5_QYgG0",
        "outputId": "b1afb203-7711-49a6-9759-31fc7a208c2d"
      },
      "execution_count": 8,
      "outputs": [
        {
          "output_type": "display_data",
          "data": {
            "text/plain": [
              "<Figure size 1000x600 with 1 Axes>"
            ],
            "image/png": "[encoded data removed]"
          },
          "metadata": {}
        },
        {
          "output_type": "stream",
          "name": "stdout",
          "text": [
            "No weeks column found in df_rq2 — skipped longevity export.\n"
          ]
        }
      ]
    }
  ]
}
